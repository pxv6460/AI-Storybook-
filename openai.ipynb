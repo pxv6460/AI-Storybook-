{
 "cells": [
  {
   "cell_type": "code",
   "execution_count": 1,
   "id": "b03a1f03-24b9-4ac4-abf3-a34c9f7f8b2b",
   "metadata": {},
   "outputs": [],
   "source": [
    "from storygpt import StoryGPT\n",
    "import gradio as gr"
   ]
  },
  {
   "cell_type": "code",
   "execution_count": 2,
   "id": "13285888-a9a8-4e27-b946-abeef2329cb3",
   "metadata": {},
   "outputs": [],
   "source": [
    "def main(characters, genre, theme):\n",
    "    vibes = {\n",
    "        \"Characters\": characters,\n",
    "        \"Genre\": genre,\n",
    "        \"Themes\": theme\n",
    "    }\n",
    "\n",
    "    story = StoryGPT(\n",
    "        \"PASTE_KEY_HERE\",\n",
    "        \"proj_MRYMDgs0tsPON6n6syQuO5d6\",\n",
    "        vibes\n",
    "    )\n",
    "\n",
    "    output = story.create_story(verbose=True)\n",
    "    return \"\\n\\n\".join(output[\"scenes\"]), output[\"image_urls\"]"
   ]
  },
  {
   "cell_type": "code",
   "execution_count": 3,
   "id": "1ad2e30a-7d82-4140-9ca9-cc16bb7a70e6",
   "metadata": {},
   "outputs": [
    {
     "name": "stdout",
     "output_type": "stream",
     "text": [
      "* Running on local URL:  http://127.0.0.1:7860\n",
      "\n",
      "To create a public link, set `share=True` in `launch()`.\n"
     ]
    },
    {
     "data": {
      "text/html": [
       "<div><iframe src=\"http://127.0.0.1:7860/\" width=\"100%\" height=\"500\" allow=\"autoplay; camera; microphone; clipboard-read; clipboard-write;\" frameborder=\"0\" allowfullscreen></iframe></div>"
      ],
      "text/plain": [
       "<IPython.core.display.HTML object>"
      ]
     },
     "metadata": {},
     "output_type": "display_data"
    },
    {
     "data": {
      "text/plain": []
     },
     "execution_count": 3,
     "metadata": {},
     "output_type": "execute_result"
    }
   ],
   "source": [
    "iface = gr.Interface(\n",
    "    fn=main,\n",
    "    inputs=[\n",
    "        gr.Textbox(placeholder=\"Enter story characters...\", label=\"Characters\"),\n",
    "        gr.Textbox(placeholder=\"Enter a genre...\", label=\"Genre\"),\n",
    "        gr.Textbox(placeholder=\"Enter a theme...\", label=\"Theme\")\n",
    "    ],\n",
    "    outputs=[\n",
    "        gr.Textbox(label=\"Generated Story\"),\n",
    "        gr.Gallery(label=\"Generated Images\")\n",
    "    ],\n",
    "    title=\"Children's Story Generator\",\n",
    "    description=\"Enter a prompt to generate a children's story and corresponding images.\"\n",
    ")\n",
    "\n",
    "iface.launch()"
   ]
  },
  {
   "cell_type": "code",
   "execution_count": null,
   "id": "3b9886e2-ba24-40e9-a131-2014346f9f51",
   "metadata": {},
   "outputs": [],
   "source": []
  }
 ],
 "metadata": {
  "kernelspec": {
   "display_name": "Python 3 (ipykernel)",
   "language": "python",
   "name": "python3"
  },
  "language_info": {
   "codemirror_mode": {
    "name": "ipython",
    "version": 3
   },
   "file_extension": ".py",
   "mimetype": "text/x-python",
   "name": "python",
   "nbconvert_exporter": "python",
   "pygments_lexer": "ipython3",
   "version": "3.11.7"
  }
 },
 "nbformat": 4,
 "nbformat_minor": 5
}
