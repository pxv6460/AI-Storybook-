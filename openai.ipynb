{
 "cells": [
  {
   "cell_type": "code",
   "execution_count": null,
   "id": "b03a1f03-24b9-4ac4-abf3-a34c9f7f8b2b",
   "metadata": {},
   "outputs": [],
   "source": [
    "from storygpt import StoryGPT\n",
    "import gradio as gr\n",
    "from dotenv import load_dotenv\n",
    "import os"
   ]
  },
  {
   "cell_type": "code",
   "execution_count": null,
   "id": "21a0b0f1-c300-4e82-b86b-dc3eaf44bd54",
   "metadata": {},
   "outputs": [],
   "source": [
    "load_dotenv()"
   ]
  },
  {
   "cell_type": "code",
   "execution_count": null,
   "id": "13285888-a9a8-4e27-b946-abeef2329cb3",
   "metadata": {},
   "outputs": [],
   "source": [
    "def main(characters, genre, theme):\n",
    "    vibes = {\n",
    "        \"Characters\": characters,\n",
    "        \"Genre\": genre,\n",
    "        \"Themes\": theme\n",
    "    }\n",
    "    \n",
    "    story = StoryGPT(\n",
    "        os.getenv(\"OPENAI_KEY\"),\n",
    "        os.getenv(\"OPENAI_PROJECT_ID\"),\n",
    "        vibes\n",
    "    )\n",
    "\n",
    "    output = story.create_story(verbose=True)\n",
    "    \n",
    "    output_html = \"<div>\"\n",
    "    for i in range(len(output[\"scenes\"])):\n",
    "        output_html += \"<div style='display:flex; flex-direction:column; align-items:center; padding:20px; background-color:#EEE; margin-bottom:15px; border-radius:10px; width:450px; box-shadow:0 0 125px #8f5922 inset;'>\"\n",
    "        output_html += f\"<img style='border-radius:20px; margin-bottom:15px;' src='{output['image_urls'][i]}' />\"\n",
    "        output_html += f\"<p style='text-align:center; color:#444; margin-bottom:15px; font-family:'Century Gothic', sans-serif;'>{output['scenes'][i]}</p>\"\n",
    "        output_html += f\"<p style='color:#444;'>Page {i+1}</p>\"\n",
    "        output_html += \"</div>\"\n",
    "    output_html += \"</div>\"\n",
    "    \n",
    "    return output_html"
   ]
  },
  {
   "cell_type": "code",
   "execution_count": null,
   "id": "f64ab79c-eaad-46e4-aa02-bea05a9b2542",
   "metadata": {},
   "outputs": [],
   "source": [
    "iface = gr.Interface(\n",
    "    fn=main,\n",
    "    inputs=[\n",
    "        gr.Textbox(placeholder=\"Enter story characters...\", label=\"Characters\"),\n",
    "        gr.Textbox(placeholder=\"Enter a genre...\", label=\"Genre\"),\n",
    "        gr.Textbox(placeholder=\"Enter a theme...\", label=\"Theme\")\n",
    "    ],\n",
    "    outputs=gr.HTML(),\n",
    "    title=\"Children's Story Generator\",\n",
    "    description=\"Enter a prompt to generate a children's story and corresponding images.\"\n",
    ")\n",
    "\n",
    "iface.launch()"
   ]
  },
  {
   "cell_type": "code",
   "execution_count": null,
   "id": "4a9b9879-c9e5-4c98-9744-26ed5b45ee6a",
   "metadata": {},
   "outputs": [],
   "source": []
  }
 ],
 "metadata": {
  "kernelspec": {
   "display_name": "Python 3 (ipykernel)",
   "language": "python",
   "name": "python3"
  },
  "language_info": {
   "codemirror_mode": {
    "name": "ipython",
    "version": 3
   },
   "file_extension": ".py",
   "mimetype": "text/x-python",
   "name": "python",
   "nbconvert_exporter": "python",
   "pygments_lexer": "ipython3",
   "version": "3.11.7"
  }
 },
 "nbformat": 4,
 "nbformat_minor": 5
}
