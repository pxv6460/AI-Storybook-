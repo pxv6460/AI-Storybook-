{
 "cells": [
  {
   "cell_type": "code",
   "execution_count": 57,
   "id": "011c2331-de65-4d75-a319-ba645865c4d5",
   "metadata": {},
   "outputs": [],
   "source": [
    "import json\n",
    "import openai\n",
    "import gradio as gr\n",
    "import re"
   ]
  },
  {
   "cell_type": "code",
   "execution_count": 65,
   "id": "7a7d5b12-8bc7-48be-9ad4-0e1c85579b8b",
   "metadata": {},
   "outputs": [
    {
     "ename": "SyntaxError",
     "evalue": "invalid syntax (1200938748.py, line 3)",
     "output_type": "error",
     "traceback": [
      "\u001b[0;36m  Cell \u001b[0;32mIn[65], line 3\u001b[0;36m\u001b[0m\n\u001b[0;31m    api_key = <add api key>,\u001b[0m\n\u001b[0m              ^\u001b[0m\n\u001b[0;31mSyntaxError\u001b[0m\u001b[0;31m:\u001b[0m invalid syntax\n"
     ]
    }
   ],
   "source": [
    "def generate_story(prompt):\n",
    "    client = openai.OpenAI(\n",
    "        api_key = <add api key>, \n",
    "        project=\"proj_MRYMDgs0tsPON6n6syQuO5d6\",\n",
    "    )\n",
    "    \n",
    "    messages = [{\n",
    "        \"role\": \"user\",\n",
    "        \"content\": prompt\n",
    "    }]\n",
    "    \n",
    "    completion = client.chat.completions.create(\n",
    "        model=\"gpt-4o-mini\",\n",
    "        messages=[\n",
    "            {\n",
    "                \"role\": \"system\",\n",
    "                \"content\": (\n",
    "                    \"You are a creative writer of children's stories. \"\n",
    "                    \"You write succinctly. You write stories that have clear scenes, \"\n",
    "                    \"and vivid imagery that can pair easily with drawings/ illustrations.\"\n",
    "                )\n",
    "            },\n",
    "            messages[0]\n",
    "        ]\n",
    "    )\n",
    "    \n",
    "    story = completion.choices[0].message.content\n",
    "    print(story)\n",
    "    return client, messages, story"
   ]
  },
  {
   "cell_type": "code",
   "execution_count": 61,
   "id": "afe0544e-317d-4f2b-a74e-5f976aa88823",
   "metadata": {},
   "outputs": [
    {
     "ename": "AttributeError",
     "evalue": "module 'openai' has no attribute 'OpenAI'",
     "output_type": "error",
     "traceback": [
      "\u001b[0;31m---------------------------------------------------------------------------\u001b[0m",
      "\u001b[0;31mAttributeError\u001b[0m                            Traceback (most recent call last)",
      "Cell \u001b[0;32mIn[61], line 3\u001b[0m\n\u001b[1;32m      1\u001b[0m sample_prompt \u001b[38;5;241m=\u001b[39m \u001b[38;5;124m\"\u001b[39m\u001b[38;5;124ma kid and a rbbit saves a forest\u001b[39m\u001b[38;5;124m\"\u001b[39m\n\u001b[0;32m----> 3\u001b[0m client, messages, story \u001b[38;5;241m=\u001b[39m generate_story(sample_prompt)\n",
      "Cell \u001b[0;32mIn[59], line 2\u001b[0m, in \u001b[0;36mgenerate_story\u001b[0;34m(prompt)\u001b[0m\n\u001b[1;32m      1\u001b[0m \u001b[38;5;28;01mdef\u001b[39;00m \u001b[38;5;21mgenerate_story\u001b[39m(prompt):\n\u001b[0;32m----> 2\u001b[0m     client \u001b[38;5;241m=\u001b[39m openai\u001b[38;5;241m.\u001b[39mOpenAI(\n\u001b[1;32m      3\u001b[0m         api_key\u001b[38;5;241m=\u001b[39m\u001b[38;5;124m\"\u001b[39m\u001b[38;5;124msk-proj-TatpjYxZLDcTnTozQmF197-8eLtiFhVhW1YlMTSvGysKR1oii0uHwQE6aWlomekLjZw3rrzSY1T3BlbkFJ3axvqx3I45CfoDvkk4s9CM9Hj8ClLdINNBb7gTMN69_zGqOw7-H3jQpuDFuA5_O7kE0m_U3j8A\u001b[39m\u001b[38;5;124m\"\u001b[39m,\n\u001b[1;32m      4\u001b[0m         project\u001b[38;5;241m=\u001b[39m\u001b[38;5;124m\"\u001b[39m\u001b[38;5;124mproj_MRYMDgs0tsPON6n6syQuO5d6\u001b[39m\u001b[38;5;124m\"\u001b[39m,\n\u001b[1;32m      5\u001b[0m     )\n\u001b[1;32m      7\u001b[0m     messages \u001b[38;5;241m=\u001b[39m [{\n\u001b[1;32m      8\u001b[0m         \u001b[38;5;124m\"\u001b[39m\u001b[38;5;124mrole\u001b[39m\u001b[38;5;124m\"\u001b[39m: \u001b[38;5;124m\"\u001b[39m\u001b[38;5;124muser\u001b[39m\u001b[38;5;124m\"\u001b[39m,\n\u001b[1;32m      9\u001b[0m         \u001b[38;5;124m\"\u001b[39m\u001b[38;5;124mcontent\u001b[39m\u001b[38;5;124m\"\u001b[39m: prompt\n\u001b[1;32m     10\u001b[0m     }]\n\u001b[1;32m     12\u001b[0m     completion \u001b[38;5;241m=\u001b[39m client\u001b[38;5;241m.\u001b[39mchat\u001b[38;5;241m.\u001b[39mcompletions\u001b[38;5;241m.\u001b[39mcreate(\n\u001b[1;32m     13\u001b[0m         model\u001b[38;5;241m=\u001b[39m\u001b[38;5;124m\"\u001b[39m\u001b[38;5;124mgpt-4o-mini\u001b[39m\u001b[38;5;124m\"\u001b[39m,\n\u001b[1;32m     14\u001b[0m         messages\u001b[38;5;241m=\u001b[39m[\n\u001b[0;32m   (...)\u001b[0m\n\u001b[1;32m     24\u001b[0m         ]\n\u001b[1;32m     25\u001b[0m     )\n",
      "\u001b[0;31mAttributeError\u001b[0m: module 'openai' has no attribute 'OpenAI'"
     ]
    }
   ],
   "source": [
    "sample_prompt = \"a kid and a rbbit saves a forest\"\n",
    "\n",
    "client, messages, story = generate_story(sample_prompt)"
   ]
  },
  {
   "cell_type": "code",
   "execution_count": 63,
   "id": "ff692a85-c43d-4e48-a022-d6c69c682442",
   "metadata": {},
   "outputs": [],
   "source": [
    "def generate_image_prompts(client, messages, story):\n",
    "    messages.append({\n",
    "        \"role\": \"assistant\",\n",
    "        \"content\": [{ \"type\": \"text\", \"text\": story }]\n",
    "    })\n",
    "\n",
    "    messages.append({\n",
    "        \"role\": \"user\",\n",
    "        \"content\": [{ \n",
    "            \"type\": \"text\", \n",
    "            \"text\": (\n",
    "                \"Create separate image generation prompts for every scene. \"\n",
    "                \"Describe the characters without using their names and add the \"\n",
    "                \"character description to every prompt.\"\n",
    "            )\n",
    "        }]\n",
    "    })\n",
    "\n",
    "    print(json.dumps(messages, indent=4))\n",
    "    \n",
    "    completion = client.chat.completions.create(\n",
    "        model=\"gpt-4o-mini\",\n",
    "        messages=messages\n",
    "    )\n",
    "\n",
    "    image_prompts = completion.choices[0].message.content\n",
    "    print(image_prompts)\n",
    "    return image_prompts"
   ]
  },
  {
   "cell_type": "code",
   "execution_count": null,
   "id": "3a36f4eb-3f27-4e19-a4e4-b4f1eae6f6da",
   "metadata": {},
   "outputs": [],
   "source": []
  },
  {
   "cell_type": "code",
   "execution_count": null,
   "id": "9431c124-400a-409f-8397-119a8bb5c5b3",
   "metadata": {},
   "outputs": [],
   "source": []
  },
  {
   "cell_type": "code",
   "execution_count": null,
   "id": "268eb45a-5497-4828-a6d8-7ef79e84cb72",
   "metadata": {},
   "outputs": [],
   "source": []
  },
  {
   "cell_type": "code",
   "execution_count": null,
   "id": "ef23eff5-a377-4840-9f17-3e2930df05a6",
   "metadata": {},
   "outputs": [],
   "source": []
  },
  {
   "cell_type": "code",
   "execution_count": null,
   "id": "af52ed5d-a4e4-4486-94ae-1e89071eae80",
   "metadata": {},
   "outputs": [],
   "source": []
  },
  {
   "cell_type": "code",
   "execution_count": null,
   "id": "908ea213-afd2-40f4-957c-72e9247d61dd",
   "metadata": {},
   "outputs": [],
   "source": []
  },
  {
   "cell_type": "code",
   "execution_count": null,
   "id": "3bec5d8f-52b5-4982-b226-70658b5850e2",
   "metadata": {},
   "outputs": [],
   "source": []
  },
  {
   "cell_type": "code",
   "execution_count": null,
   "id": "9d07f023-6c9a-4925-9b66-9ab2f203c78f",
   "metadata": {},
   "outputs": [],
   "source": []
  },
  {
   "cell_type": "code",
   "execution_count": null,
   "id": "c1f62caa-7ac5-42a2-ba3e-b7b3e8b1cf51",
   "metadata": {},
   "outputs": [],
   "source": []
  },
  {
   "cell_type": "code",
   "execution_count": null,
   "id": "159994d8-9bf6-4ac8-b216-93dd9e8ababa",
   "metadata": {},
   "outputs": [],
   "source": []
  },
  {
   "cell_type": "code",
   "execution_count": null,
   "id": "1db3cbfb-6297-4a6c-92b2-d139e72470ec",
   "metadata": {},
   "outputs": [],
   "source": []
  },
  {
   "cell_type": "code",
   "execution_count": null,
   "id": "92a972c8-1624-4722-9d34-f0d7a511168a",
   "metadata": {},
   "outputs": [],
   "source": []
  },
  {
   "cell_type": "code",
   "execution_count": null,
   "id": "5ec8d567-f4aa-4c95-a7cc-be53c8e17d47",
   "metadata": {},
   "outputs": [],
   "source": [
    "def generate_story(user_prompt):\n",
    "    messages = [\n",
    "        {\"role\": \"system\", \"content\": \"You are a creative writer of children's stories. You write succinctly. You write stories that have clear scenes, and vivid imagery that can pair easily with drawings/ illustrations.\"},\n",
    "        {\"role\": \"user\", \"content\": user_prompt}\n",
    "    ]\n",
    "    \n",
    "    completion = openai.ChatCompletion.create(\n",
    "        model=\"gpt-4o-mini\",\n",
    "        messages=messages\n",
    "    )\n",
    "    return completion.choices[0].message.content"
   ]
  },
  {
   "cell_type": "code",
   "execution_count": null,
   "id": "7fb7f2e6-7690-421a-8af3-728e6110257b",
   "metadata": {},
   "outputs": [],
   "source": [
    "def generate_image_prompts(story):\n",
    "    messages = [\n",
    "        {\"role\": \"assistant\", \"content\": story},\n",
    "        {\"role\": \"user\", \"content\": \"Create separate image generation prompts for every scene. \"\n",
    "                                    \"Describe the characters without using their names and add the character \"\n",
    "                                    \"description to every prompt.\"}\n",
    "    ]\n",
    "    completion = openai.ChatCompletion.create(\n",
    "        model=\"gpt-4o-mini\",\n",
    "        messages=messages\n",
    "    )\n",
    "    image_prompts = completion.choices[0].message.content\n",
    "\n",
    "    pattern = r\"Scene \\d+:\"\n",
    "    prompts = re.split(pattern, image_prompts)\n",
    "    prompts = [prompt.replace(\"\\n\", \"\").strip() for prompt in prompts]\n",
    "    return [s for s in prompts if s]"
   ]
  },
  {
   "cell_type": "code",
   "execution_count": null,
   "id": "b7bdaaf4-bdc5-49ca-92a7-2b7dbbc8c8c2",
   "metadata": {},
   "outputs": [],
   "source": [
    "for prompt in prompts:\n",
    "    print(prompt)"
   ]
  },
  {
   "cell_type": "code",
   "execution_count": null,
   "id": "4041025b-7176-4337-9c3f-6b9b22021b7e",
   "metadata": {},
   "outputs": [],
   "source": [
    "def generate_images(prompts):\n",
    "\n",
    "    image_urls = []\n",
    "    for i in range(len(prompts)):\n",
    "        response = client.images.generate(\n",
    "        model=\"dall-e-2\",\n",
    "        prompt=prompts[i] + \"Generate the image in the style of a children's book.\",\n",
    "        n=1,\n",
    "        size=\"1024x1024\"\n",
    "    )\n",
    "    image_url = response.data[0].url\n",
    "    print(image_url)"
   ]
  },
  {
   "cell_type": "code",
   "execution_count": null,
   "id": "47b6d518-93b3-4f8a-a022-59cb91a32a24",
   "metadata": {},
   "outputs": [],
   "source": [
    "def generate_story_and_images(user_prompt):\n",
    "    \n",
    "    story = generate_story(user_prompt)\n",
    "\n",
    "    prompts = generate_image_prompts(story)\n",
    "\n",
    "    image_urls = generate_images(prompts)\n",
    "\n",
    "    return story, image_urls"
   ]
  },
  {
   "cell_type": "code",
   "execution_count": null,
   "id": "e8091bb6-4fa4-4d4e-a971-3ded87d2c5a0",
   "metadata": {},
   "outputs": [],
   "source": [
    ")"
   ]
  },
  {
   "cell_type": "code",
   "execution_count": null,
   "id": "2f569c48-d55d-4bad-a3fe-56f8298d479e",
   "metadata": {},
   "outputs": [],
   "source": [
    "interface.launch()"
   ]
  },
  {
   "cell_type": "code",
   "execution_count": null,
   "id": "831e5629-df34-4b82-bb52-2da3381bf9ae",
   "metadata": {},
   "outputs": [],
   "source": []
  },
  {
   "cell_type": "code",
   "execution_count": null,
   "id": "6c361a60-7cf5-4d48-8347-6fb375b8cb22",
   "metadata": {},
   "outputs": [],
   "source": []
  },
  {
   "cell_type": "code",
   "execution_count": null,
   "id": "274b5820-ee91-4d34-bb7c-0a77b0e66cc4",
   "metadata": {},
   "outputs": [],
   "source": []
  },
  {
   "cell_type": "code",
   "execution_count": null,
   "id": "75306b8e-66be-4f36-8428-9af739392fb8",
   "metadata": {},
   "outputs": [],
   "source": []
  },
  {
   "cell_type": "code",
   "execution_count": null,
   "id": "0b666293-0f99-432b-89e0-e22e37d11656",
   "metadata": {},
   "outputs": [],
   "source": []
  },
  {
   "cell_type": "code",
   "execution_count": null,
   "id": "d676d052-b0ae-4d52-9214-b2746514e721",
   "metadata": {},
   "outputs": [],
   "source": []
  },
  {
   "cell_type": "code",
   "execution_count": null,
   "id": "7494527e-499b-4a14-b8ab-8995f9d5cb63",
   "metadata": {},
   "outputs": [],
   "source": []
  }
 ],
 "metadata": {
  "kernelspec": {
   "display_name": "Python 3 (ipykernel)",
   "language": "python",
   "name": "python3"
  },
  "language_info": {
   "codemirror_mode": {
    "name": "ipython",
    "version": 3
   },
   "file_extension": ".py",
   "mimetype": "text/x-python",
   "name": "python",
   "nbconvert_exporter": "python",
   "pygments_lexer": "ipython3",
   "version": "3.11.9"
  }
 },
 "nbformat": 4,
 "nbformat_minor": 5
}
