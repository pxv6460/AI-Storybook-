{
 "cells": [
  {
   "cell_type": "code",
   "execution_count": 2,
   "id": "06665f4f-bcd2-40ec-8919-50a77997dcc8",
   "metadata": {},
   "outputs": [],
   "source": [
    "import openai\n",
    "import gradio as gr\n",
    "import re"
   ]
  },
  {
   "cell_type": "code",
   "execution_count": 3,
   "id": "45a8f589-0bba-410f-be60-6d7220f74714",
   "metadata": {},
   "outputs": [],
   "source": [
    "openai.api_key = <ENTER API KEYS>"
   ]
  },
  {
   "cell_type": "code",
   "execution_count": 14,
   "id": "e2e003b4-88b3-40fc-8247-da6333de4cc1",
   "metadata": {},
   "outputs": [],
   "source": [
    "def generate_story(prompt):\n",
    "    try:\n",
    "        completion = openai.ChatCompletion.create(\n",
    "            model=\"gpt-4\",\n",
    "            messages=[\n",
    "                {\"role\": \"system\", \"content\": \"You are a creative writer of children's stories. Write succinctly and creatively.\"},\n",
    "                {\"role\": \"user\", \"content\": f\"Write a short children's story about the following prompt: {prompt}. Limit the story to 300 words.\"},\n",
    "            ]\n",
    "        )\n",
    "        story = completion.choices[0].message[\"content\"]\n",
    "        return story\n",
    "    except Exception as e:\n",
    "        return f\"Error: {e}\""
   ]
  },
  {
   "cell_type": "code",
   "execution_count": 18,
   "id": "ed36f02f-5908-4272-9659-4f6bea1867fe",
   "metadata": {},
   "outputs": [],
   "source": [
    "interface = gr.Interface(\n",
    "    fn=generate_story,\n",
    "    inputs=gr.Textbox(\n",
    "        label=\"Story Prompt\", \n",
    "        placeholder=\"Enter your story idea (e.g., 'A magical forest where animals talk')\"\n",
    "    ),\n",
    "    outputs=gr.Textbox(\n",
    "        label=\"Generated Story\"\n",
    "    ),\n",
    "    title=\"Children's Story Generator\",\n",
    "    description=\"Enter a prompt to generate a short children's story!\"\n",
    ")"
   ]
  },
  {
   "cell_type": "code",
   "execution_count": 20,
   "id": "86ea6f71-d7be-4058-8775-d0c6cb259658",
   "metadata": {},
   "outputs": [
    {
     "name": "stdout",
     "output_type": "stream",
     "text": [
      "* Running on local URL:  http://127.0.0.1:7860\n",
      "\n",
      "To create a public link, set `share=True` in `launch()`.\n"
     ]
    },
    {
     "data": {
      "text/html": [
       "<div><iframe src=\"http://127.0.0.1:7860/\" width=\"100%\" height=\"500\" allow=\"autoplay; camera; microphone; clipboard-read; clipboard-write;\" frameborder=\"0\" allowfullscreen></iframe></div>"
      ],
      "text/plain": [
       "<IPython.core.display.HTML object>"
      ]
     },
     "metadata": {},
     "output_type": "display_data"
    },
    {
     "data": {
      "text/plain": []
     },
     "execution_count": 20,
     "metadata": {},
     "output_type": "execute_result"
    }
   ],
   "source": [
    "interface.launch()"
   ]
  },
  {
   "cell_type": "code",
   "execution_count": null,
   "id": "23fc671c-05e8-45fd-b52a-9e6ad12d7ced",
   "metadata": {},
   "outputs": [],
   "source": [
    "#prompt = \"A magical forest where animals talk\"\n",
    "\n",
    "#story = generate_story(prompt)\n",
    "#print(story)"
   ]
  },
  {
   "cell_type": "code",
   "execution_count": 26,
   "id": "3f9de2ee-a7e4-4db8-99b5-696f98c5c1e9",
   "metadata": {},
   "outputs": [],
   "source": [
    "def parse_scenes_with_regex(story):\n",
    "    pattern = r\"Scene \\d+:\"  \n",
    "    scenes = re.split(pattern, story)  \n",
    "    return [scene.strip() for scene in scenes if scene.strip()] "
   ]
  },
  {
   "cell_type": "code",
   "execution_count": 28,
   "id": "f2d4fc55-b2e5-4ef5-aa43-ead61d5b0353",
   "metadata": {},
   "outputs": [],
   "source": [
    "def generate_and_parse_story(prompt):\n",
    "    story = generate_story(prompt)\n",
    "    if \"Error\" in story:\n",
    "        return {\"Full Story\": story, \"Parsed Scenes\": \"Story generation failed. Cannot parse scenes.\"}\n",
    "\n",
    "    parsed_scenes = parse_scenes_with_regex(story)\n",
    "    parsed_scenes_text = \"\\n\\n\".join(f\"Scene {i+1}:\\n{scene}\" for i, scene in enumerate(parsed_scenes))\n",
    "\n",
    "    return {\"Full Story\": story, \"Parsed Scenes\": parsed_scenes_text}"
   ]
  },
  {
   "cell_type": "code",
   "execution_count": 30,
   "id": "66c43036-7e9c-4579-8063-779db8c68cd3",
   "metadata": {},
   "outputs": [
    {
     "name": "stdout",
     "output_type": "stream",
     "text": [
      "* Running on local URL:  http://127.0.0.1:7862\n",
      "\n",
      "To create a public link, set `share=True` in `launch()`.\n"
     ]
    },
    {
     "data": {
      "text/html": [
       "<div><iframe src=\"http://127.0.0.1:7862/\" width=\"100%\" height=\"500\" allow=\"autoplay; camera; microphone; clipboard-read; clipboard-write;\" frameborder=\"0\" allowfullscreen></iframe></div>"
      ],
      "text/plain": [
       "<IPython.core.display.HTML object>"
      ]
     },
     "metadata": {},
     "output_type": "display_data"
    }
   ],
   "source": [
    "def story_with_scenes_app():\n",
    "\n",
    "    gr.Interface(\n",
    "        fn=generate_and_parse_story,\n",
    "        inputs=gr.Textbox(lines=2, placeholder=\"Enter your story prompt here...\"),\n",
    "        outputs=[\n",
    "            gr.Textbox(label=\"Generated Story\"), \n",
    "            gr.Textbox(label=\"Parsed Scenes\"),  \n",
    "        ],\n",
    "        title=\"Children's Story Generator and Scene Parser\"\n",
    "    ).launch()\n",
    "\n",
    "story_with_scenes_app()"
   ]
  },
  {
   "cell_type": "code",
   "execution_count": null,
   "id": "23d80481-0ace-4d33-a338-b629395ef3cb",
   "metadata": {},
   "outputs": [],
   "source": []
  }
 ],
 "metadata": {
  "kernelspec": {
   "display_name": "Python 3 (ipykernel)",
   "language": "python",
   "name": "python3"
  },
  "language_info": {
   "codemirror_mode": {
    "name": "ipython",
    "version": 3
   },
   "file_extension": ".py",
   "mimetype": "text/x-python",
   "name": "python",
   "nbconvert_exporter": "python",
   "pygments_lexer": "ipython3",
   "version": "3.11.9"
  }
 },
 "nbformat": 4,
 "nbformat_minor": 5
}
