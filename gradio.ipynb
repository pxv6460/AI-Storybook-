{
 "cells": [
  {
   "cell_type": "code",
   "execution_count": null,
   "id": "06665f4f-bcd2-40ec-8919-50a77997dcc8",
   "metadata": {},
   "outputs": [],
   "source": [
    "import openai\n",
    "import gradio as gr\n",
    "import re"
   ]
  },
  {
   "cell_type": "code",
   "execution_count": null,
   "id": "e2e003b4-88b3-40fc-8247-da6333de4cc1",
   "metadata": {},
   "outputs": [],
   "source": [
    "completion = openai.ChatCompletion.create(\n",
    "    model=\"gpt-4\", \n",
    "    messages=[\n",
    "        {\"role\": \"system\", \"content\": \"You are a creative writer of children's stories. You write succinctly. You write stories that have clear scenes, and vivid imagery that can pair easily with drawings/illustrations.\"},\n",
    "        {\"role\": \"user\", \"content\": \"Write a short children's story about a brave dog and a magical garden. Limit your response to 300 words. Split your response into scenes. Give your response in plain text without markdown.\"}\n",
    "    ]\n",
    ")"
   ]
  },
  {
   "cell_type": "code",
   "execution_count": null,
   "id": "ed36f02f-5908-4272-9659-4f6bea1867fe",
   "metadata": {},
   "outputs": [],
   "source": [
    "story = completion.choices[0].message[\"content\"]\n",
    "print(story)"
   ]
  },
  {
   "cell_type": "code",
   "execution_count": null,
   "id": "4e2f6019-5ce9-47b4-b122-59d72c89392c",
   "metadata": {},
   "outputs": [],
   "source": [
    "def story_app():\n",
    "    gr.Interface(\n",
    "        fn=generate_story,\n",
    "        inputs=gr.Textbox(lines=2, placeholder=\"Enter your story prompt here...\"),\n",
    "        outputs=gr.Textbox(label=\"Generated Story\"),\n",
    "        title=\"Children's Story Generator\"\n",
    "    ).launch()"
   ]
  },
  {
   "cell_type": "code",
   "execution_count": null,
   "id": "d709cf7d-e8b6-4d3e-b754-2f0a6225b0ae",
   "metadata": {},
   "outputs": [],
   "source": [
    "story_app()"
   ]
  },
  {
   "cell_type": "code",
   "execution_count": null,
   "id": "3f9de2ee-a7e4-4db8-99b5-696f98c5c1e9",
   "metadata": {},
   "outputs": [],
   "source": [
    "def parse_scenes_with_regex(story):\n",
    "    pattern = r\"Scene \\d+:\"  \n",
    "    scenes = re.split(pattern, story)  \n",
    "    return [scene.strip() for scene in scenes if scene.strip()] "
   ]
  },
  {
   "cell_type": "code",
   "execution_count": null,
   "id": "f2d4fc55-b2e5-4ef5-aa43-ead61d5b0353",
   "metadata": {},
   "outputs": [],
   "source": [
    "def generate_and_parse_story(prompt):\n",
    "    story = generate_story(prompt)\n",
    "    if \"Error\" in story:\n",
    "        return {\"Full Story\": story, \"Parsed Scenes\": \"Story generation failed. Cannot parse scenes.\"}\n",
    "\n",
    "    parsed_scenes = parse_scenes_with_regex(story)\n",
    "    parsed_scenes_text = \"\\n\\n\".join(f\"Scene {i+1}:\\n{scene}\" for i, scene in enumerate(parsed_scenes))\n",
    "\n",
    "    return {\"Full Story\": story, \"Parsed Scenes\": parsed_scenes_text}"
   ]
  },
  {
   "cell_type": "code",
   "execution_count": null,
   "id": "66c43036-7e9c-4579-8063-779db8c68cd3",
   "metadata": {},
   "outputs": [],
   "source": [
    "def story_with_scenes_app():\n",
    "\n",
    "    gr.Interface(\n",
    "        fn=generate_and_parse_story,\n",
    "        inputs=gr.Textbox(lines=2, placeholder=\"Enter your story prompt here...\"),\n",
    "        outputs=[\n",
    "            gr.Textbox(label=\"Generated Story\"), \n",
    "            gr.Textbox(label=\"Parsed Scenes\"),  \n",
    "        ],\n",
    "        title=\"Children's Story Generator and Scene Parser\"\n",
    "    ).launch()\n",
    "\n",
    "story_with_scenes_app()"
   ]
  },
  {
   "cell_type": "code",
   "execution_count": null,
   "id": "23d80481-0ace-4d33-a338-b629395ef3cb",
   "metadata": {},
   "outputs": [],
   "source": []
  }
 ],
 "metadata": {
  "kernelspec": {
   "display_name": "Python 3 (ipykernel)",
   "language": "python",
   "name": "python3"
  },
  "language_info": {
   "codemirror_mode": {
    "name": "ipython",
    "version": 3
   },
   "file_extension": ".py",
   "mimetype": "text/x-python",
   "name": "python",
   "nbconvert_exporter": "python",
   "pygments_lexer": "ipython3",
   "version": "3.11.9"
  }
 },
 "nbformat": 4,
 "nbformat_minor": 5
}
